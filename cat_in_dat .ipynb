{
 "cells": [
  {
   "cell_type": "code",
   "execution_count": null,
   "id": "2b17e467-b051-4007-a112-a486965d99f9",
   "metadata": {
    "colab": {
     "base_uri": "https://localhost:8080/",
     "height": 323
    },
    "id": "2b17e467-b051-4007-a112-a486965d99f9",
    "outputId": "7ef56b4e-b00f-40ce-d3d8-f8667a338738"
   },
   "outputs": [],
   "source": [
    "import kaggle\n",
    "kaggle.api.authenticate()"
   ]
  },
  {
   "cell_type": "code",
   "execution_count": null,
   "id": "e6ad4933-7843-49c4-bef8-541a5a372560",
   "metadata": {
    "colab": {
     "base_uri": "https://localhost:8080/"
    },
    "id": "e6ad4933-7843-49c4-bef8-541a5a372560",
    "outputId": "113bd372-bcfe-4550-85dc-31b2ff83e635"
   },
   "outputs": [],
   "source": [
    "!kaggle competitions download -c cat-in-the-dat-ii"
   ]
  },
  {
   "cell_type": "code",
   "execution_count": null,
   "id": "05c193ed-75c1-4f66-af17-5a78bbabefef",
   "metadata": {
    "id": "05c193ed-75c1-4f66-af17-5a78bbabefef"
   },
   "outputs": [],
   "source": [
    "! mkdir cat-in-the-dat-ii"
   ]
  },
  {
   "cell_type": "code",
   "execution_count": null,
   "id": "26ef33a8-0c32-464d-9a91-5cb844347d93",
   "metadata": {
    "colab": {
     "base_uri": "https://localhost:8080/"
    },
    "id": "26ef33a8-0c32-464d-9a91-5cb844347d93",
    "outputId": "34bfbadb-60d6-4192-db47-c406810af23b"
   },
   "outputs": [],
   "source": [
    "!mv cat-in-the-dat-ii."
   ]
  },
  {
   "cell_type": "code",
   "execution_count": 1,
   "id": "ea309d36-ac69-43bb-a708-4f053b5ec203",
   "metadata": {
    "colab": {
     "base_uri": "https://localhost:8080/"
    },
    "id": "ea309d36-ac69-43bb-a708-4f053b5ec203",
    "outputId": "6540914e-da47-4644-8351-138260e6d528"
   },
   "outputs": [],
   "source": [
    "import numpy as np\n",
    "import pandas as pd\n",
    "import matplotlib.pyplot as plt\n",
    "from sklearn.decomposition import PCA\n",
    "from sklearn.model_selection import train_test_split\n",
    "%config Completer.use_jedi=False"
   ]
  },
  {
   "cell_type": "code",
   "execution_count": 2,
   "id": "64839a9d-57d1-4055-bce1-cdc6b9c8a7db",
   "metadata": {
    "id": "64839a9d-57d1-4055-bce1-cdc6b9c8a7db"
   },
   "outputs": [],
   "source": [
    "df_train=pd.read_csv(\"train.csv\")\n",
    "df_test=pd.read_csv(\"test.csv\")"
   ]
  },
  {
   "cell_type": "code",
   "execution_count": 3,
   "id": "058db8ff-3671-4f74-89aa-7e75479668ac",
   "metadata": {
    "colab": {
     "base_uri": "https://localhost:8080/",
     "height": 419
    },
    "id": "058db8ff-3671-4f74-89aa-7e75479668ac",
    "outputId": "5d987d5c-eab6-43b4-d6eb-c7a4447c9886"
   },
   "outputs": [
    {
     "data": {
      "text/html": [
       "<div>\n",
       "<style scoped>\n",
       "    .dataframe tbody tr th:only-of-type {\n",
       "        vertical-align: middle;\n",
       "    }\n",
       "\n",
       "    .dataframe tbody tr th {\n",
       "        vertical-align: top;\n",
       "    }\n",
       "\n",
       "    .dataframe thead th {\n",
       "        text-align: right;\n",
       "    }\n",
       "</style>\n",
       "<table border=\"1\" class=\"dataframe\">\n",
       "  <thead>\n",
       "    <tr style=\"text-align: right;\">\n",
       "      <th></th>\n",
       "      <th>id</th>\n",
       "      <th>bin_0</th>\n",
       "      <th>bin_1</th>\n",
       "      <th>bin_2</th>\n",
       "      <th>bin_3</th>\n",
       "      <th>bin_4</th>\n",
       "      <th>nom_0</th>\n",
       "      <th>nom_1</th>\n",
       "      <th>nom_2</th>\n",
       "      <th>nom_3</th>\n",
       "      <th>...</th>\n",
       "      <th>nom_9</th>\n",
       "      <th>ord_0</th>\n",
       "      <th>ord_1</th>\n",
       "      <th>ord_2</th>\n",
       "      <th>ord_3</th>\n",
       "      <th>ord_4</th>\n",
       "      <th>ord_5</th>\n",
       "      <th>day</th>\n",
       "      <th>month</th>\n",
       "      <th>target</th>\n",
       "    </tr>\n",
       "  </thead>\n",
       "  <tbody>\n",
       "    <tr>\n",
       "      <th>0</th>\n",
       "      <td>0</td>\n",
       "      <td>0.0</td>\n",
       "      <td>0.0</td>\n",
       "      <td>0.0</td>\n",
       "      <td>F</td>\n",
       "      <td>N</td>\n",
       "      <td>Red</td>\n",
       "      <td>Trapezoid</td>\n",
       "      <td>Hamster</td>\n",
       "      <td>Russia</td>\n",
       "      <td>...</td>\n",
       "      <td>02e7c8990</td>\n",
       "      <td>3.0</td>\n",
       "      <td>Contributor</td>\n",
       "      <td>Hot</td>\n",
       "      <td>c</td>\n",
       "      <td>U</td>\n",
       "      <td>Pw</td>\n",
       "      <td>6.0</td>\n",
       "      <td>3.0</td>\n",
       "      <td>0</td>\n",
       "    </tr>\n",
       "    <tr>\n",
       "      <th>1</th>\n",
       "      <td>1</td>\n",
       "      <td>1.0</td>\n",
       "      <td>1.0</td>\n",
       "      <td>0.0</td>\n",
       "      <td>F</td>\n",
       "      <td>Y</td>\n",
       "      <td>Red</td>\n",
       "      <td>Star</td>\n",
       "      <td>Axolotl</td>\n",
       "      <td>NaN</td>\n",
       "      <td>...</td>\n",
       "      <td>f37df64af</td>\n",
       "      <td>3.0</td>\n",
       "      <td>Grandmaster</td>\n",
       "      <td>Warm</td>\n",
       "      <td>e</td>\n",
       "      <td>X</td>\n",
       "      <td>pE</td>\n",
       "      <td>7.0</td>\n",
       "      <td>7.0</td>\n",
       "      <td>0</td>\n",
       "    </tr>\n",
       "    <tr>\n",
       "      <th>2</th>\n",
       "      <td>2</td>\n",
       "      <td>0.0</td>\n",
       "      <td>1.0</td>\n",
       "      <td>0.0</td>\n",
       "      <td>F</td>\n",
       "      <td>N</td>\n",
       "      <td>Red</td>\n",
       "      <td>NaN</td>\n",
       "      <td>Hamster</td>\n",
       "      <td>Canada</td>\n",
       "      <td>...</td>\n",
       "      <td>NaN</td>\n",
       "      <td>3.0</td>\n",
       "      <td>NaN</td>\n",
       "      <td>Freezing</td>\n",
       "      <td>n</td>\n",
       "      <td>P</td>\n",
       "      <td>eN</td>\n",
       "      <td>5.0</td>\n",
       "      <td>9.0</td>\n",
       "      <td>0</td>\n",
       "    </tr>\n",
       "    <tr>\n",
       "      <th>3</th>\n",
       "      <td>3</td>\n",
       "      <td>NaN</td>\n",
       "      <td>0.0</td>\n",
       "      <td>0.0</td>\n",
       "      <td>F</td>\n",
       "      <td>N</td>\n",
       "      <td>Red</td>\n",
       "      <td>Circle</td>\n",
       "      <td>Hamster</td>\n",
       "      <td>Finland</td>\n",
       "      <td>...</td>\n",
       "      <td>f9d456e57</td>\n",
       "      <td>1.0</td>\n",
       "      <td>Novice</td>\n",
       "      <td>Lava Hot</td>\n",
       "      <td>a</td>\n",
       "      <td>C</td>\n",
       "      <td>NaN</td>\n",
       "      <td>3.0</td>\n",
       "      <td>3.0</td>\n",
       "      <td>0</td>\n",
       "    </tr>\n",
       "    <tr>\n",
       "      <th>4</th>\n",
       "      <td>4</td>\n",
       "      <td>0.0</td>\n",
       "      <td>NaN</td>\n",
       "      <td>0.0</td>\n",
       "      <td>T</td>\n",
       "      <td>N</td>\n",
       "      <td>Red</td>\n",
       "      <td>Triangle</td>\n",
       "      <td>Hamster</td>\n",
       "      <td>Costa Rica</td>\n",
       "      <td>...</td>\n",
       "      <td>c5361037c</td>\n",
       "      <td>3.0</td>\n",
       "      <td>Grandmaster</td>\n",
       "      <td>Cold</td>\n",
       "      <td>h</td>\n",
       "      <td>C</td>\n",
       "      <td>OZ</td>\n",
       "      <td>5.0</td>\n",
       "      <td>12.0</td>\n",
       "      <td>0</td>\n",
       "    </tr>\n",
       "    <tr>\n",
       "      <th>...</th>\n",
       "      <td>...</td>\n",
       "      <td>...</td>\n",
       "      <td>...</td>\n",
       "      <td>...</td>\n",
       "      <td>...</td>\n",
       "      <td>...</td>\n",
       "      <td>...</td>\n",
       "      <td>...</td>\n",
       "      <td>...</td>\n",
       "      <td>...</td>\n",
       "      <td>...</td>\n",
       "      <td>...</td>\n",
       "      <td>...</td>\n",
       "      <td>...</td>\n",
       "      <td>...</td>\n",
       "      <td>...</td>\n",
       "      <td>...</td>\n",
       "      <td>...</td>\n",
       "      <td>...</td>\n",
       "      <td>...</td>\n",
       "      <td>...</td>\n",
       "    </tr>\n",
       "    <tr>\n",
       "      <th>599995</th>\n",
       "      <td>599995</td>\n",
       "      <td>0.0</td>\n",
       "      <td>1.0</td>\n",
       "      <td>0.0</td>\n",
       "      <td>T</td>\n",
       "      <td>N</td>\n",
       "      <td>Red</td>\n",
       "      <td>Polygon</td>\n",
       "      <td>Axolotl</td>\n",
       "      <td>India</td>\n",
       "      <td>...</td>\n",
       "      <td>015c63324</td>\n",
       "      <td>3.0</td>\n",
       "      <td>Novice</td>\n",
       "      <td>Freezing</td>\n",
       "      <td>a</td>\n",
       "      <td>R</td>\n",
       "      <td>GZ</td>\n",
       "      <td>5.0</td>\n",
       "      <td>NaN</td>\n",
       "      <td>0</td>\n",
       "    </tr>\n",
       "    <tr>\n",
       "      <th>599996</th>\n",
       "      <td>599996</td>\n",
       "      <td>1.0</td>\n",
       "      <td>0.0</td>\n",
       "      <td>0.0</td>\n",
       "      <td>T</td>\n",
       "      <td>Y</td>\n",
       "      <td>Blue</td>\n",
       "      <td>Polygon</td>\n",
       "      <td>Dog</td>\n",
       "      <td>Costa Rica</td>\n",
       "      <td>...</td>\n",
       "      <td>a02ae6a63</td>\n",
       "      <td>2.0</td>\n",
       "      <td>Novice</td>\n",
       "      <td>Boiling Hot</td>\n",
       "      <td>n</td>\n",
       "      <td>N</td>\n",
       "      <td>sf</td>\n",
       "      <td>NaN</td>\n",
       "      <td>3.0</td>\n",
       "      <td>0</td>\n",
       "    </tr>\n",
       "    <tr>\n",
       "      <th>599997</th>\n",
       "      <td>599997</td>\n",
       "      <td>0.0</td>\n",
       "      <td>0.0</td>\n",
       "      <td>0.0</td>\n",
       "      <td>F</td>\n",
       "      <td>Y</td>\n",
       "      <td>Red</td>\n",
       "      <td>Circle</td>\n",
       "      <td>Axolotl</td>\n",
       "      <td>Russia</td>\n",
       "      <td>...</td>\n",
       "      <td>40f9610c1</td>\n",
       "      <td>2.0</td>\n",
       "      <td>Contributor</td>\n",
       "      <td>Freezing</td>\n",
       "      <td>n</td>\n",
       "      <td>H</td>\n",
       "      <td>MV</td>\n",
       "      <td>7.0</td>\n",
       "      <td>5.0</td>\n",
       "      <td>0</td>\n",
       "    </tr>\n",
       "    <tr>\n",
       "      <th>599998</th>\n",
       "      <td>599998</td>\n",
       "      <td>1.0</td>\n",
       "      <td>1.0</td>\n",
       "      <td>0.0</td>\n",
       "      <td>F</td>\n",
       "      <td>Y</td>\n",
       "      <td>NaN</td>\n",
       "      <td>Polygon</td>\n",
       "      <td>Axolotl</td>\n",
       "      <td>NaN</td>\n",
       "      <td>...</td>\n",
       "      <td>c1a8374a0</td>\n",
       "      <td>1.0</td>\n",
       "      <td>Master</td>\n",
       "      <td>Warm</td>\n",
       "      <td>m</td>\n",
       "      <td>X</td>\n",
       "      <td>Ey</td>\n",
       "      <td>1.0</td>\n",
       "      <td>5.0</td>\n",
       "      <td>0</td>\n",
       "    </tr>\n",
       "    <tr>\n",
       "      <th>599999</th>\n",
       "      <td>599999</td>\n",
       "      <td>0.0</td>\n",
       "      <td>0.0</td>\n",
       "      <td>0.0</td>\n",
       "      <td>T</td>\n",
       "      <td>N</td>\n",
       "      <td>Blue</td>\n",
       "      <td>Triangle</td>\n",
       "      <td>Dog</td>\n",
       "      <td>Russia</td>\n",
       "      <td>...</td>\n",
       "      <td>e2aea7784</td>\n",
       "      <td>1.0</td>\n",
       "      <td>Contributor</td>\n",
       "      <td>Boiling Hot</td>\n",
       "      <td>b</td>\n",
       "      <td>O</td>\n",
       "      <td>uI</td>\n",
       "      <td>5.0</td>\n",
       "      <td>8.0</td>\n",
       "      <td>0</td>\n",
       "    </tr>\n",
       "  </tbody>\n",
       "</table>\n",
       "<p>600000 rows × 25 columns</p>\n",
       "</div>"
      ],
      "text/plain": [
       "            id  bin_0  bin_1  bin_2 bin_3 bin_4 nom_0      nom_1    nom_2  \\\n",
       "0            0    0.0    0.0    0.0     F     N   Red  Trapezoid  Hamster   \n",
       "1            1    1.0    1.0    0.0     F     Y   Red       Star  Axolotl   \n",
       "2            2    0.0    1.0    0.0     F     N   Red        NaN  Hamster   \n",
       "3            3    NaN    0.0    0.0     F     N   Red     Circle  Hamster   \n",
       "4            4    0.0    NaN    0.0     T     N   Red   Triangle  Hamster   \n",
       "...        ...    ...    ...    ...   ...   ...   ...        ...      ...   \n",
       "599995  599995    0.0    1.0    0.0     T     N   Red    Polygon  Axolotl   \n",
       "599996  599996    1.0    0.0    0.0     T     Y  Blue    Polygon      Dog   \n",
       "599997  599997    0.0    0.0    0.0     F     Y   Red     Circle  Axolotl   \n",
       "599998  599998    1.0    1.0    0.0     F     Y   NaN    Polygon  Axolotl   \n",
       "599999  599999    0.0    0.0    0.0     T     N  Blue   Triangle      Dog   \n",
       "\n",
       "             nom_3  ...      nom_9 ord_0        ord_1        ord_2 ord_3  \\\n",
       "0           Russia  ...  02e7c8990   3.0  Contributor          Hot     c   \n",
       "1              NaN  ...  f37df64af   3.0  Grandmaster         Warm     e   \n",
       "2           Canada  ...        NaN   3.0          NaN     Freezing     n   \n",
       "3          Finland  ...  f9d456e57   1.0       Novice     Lava Hot     a   \n",
       "4       Costa Rica  ...  c5361037c   3.0  Grandmaster         Cold     h   \n",
       "...            ...  ...        ...   ...          ...          ...   ...   \n",
       "599995       India  ...  015c63324   3.0       Novice     Freezing     a   \n",
       "599996  Costa Rica  ...  a02ae6a63   2.0       Novice  Boiling Hot     n   \n",
       "599997      Russia  ...  40f9610c1   2.0  Contributor     Freezing     n   \n",
       "599998         NaN  ...  c1a8374a0   1.0       Master         Warm     m   \n",
       "599999      Russia  ...  e2aea7784   1.0  Contributor  Boiling Hot     b   \n",
       "\n",
       "       ord_4  ord_5  day month target  \n",
       "0          U     Pw  6.0   3.0      0  \n",
       "1          X     pE  7.0   7.0      0  \n",
       "2          P     eN  5.0   9.0      0  \n",
       "3          C    NaN  3.0   3.0      0  \n",
       "4          C     OZ  5.0  12.0      0  \n",
       "...      ...    ...  ...   ...    ...  \n",
       "599995     R     GZ  5.0   NaN      0  \n",
       "599996     N     sf  NaN   3.0      0  \n",
       "599997     H     MV  7.0   5.0      0  \n",
       "599998     X     Ey  1.0   5.0      0  \n",
       "599999     O     uI  5.0   8.0      0  \n",
       "\n",
       "[600000 rows x 25 columns]"
      ]
     },
     "execution_count": 3,
     "metadata": {},
     "output_type": "execute_result"
    }
   ],
   "source": [
    "df_train"
   ]
  },
  {
   "cell_type": "code",
   "execution_count": 4,
   "id": "0a440378-2f8b-4bbf-b444-48805b075ae6",
   "metadata": {
    "colab": {
     "base_uri": "https://localhost:8080/",
     "height": 419
    },
    "id": "0a440378-2f8b-4bbf-b444-48805b075ae6",
    "outputId": "a1e86f9b-451b-411c-cb65-30582162a0fb"
   },
   "outputs": [
    {
     "data": {
      "text/html": [
       "<div>\n",
       "<style scoped>\n",
       "    .dataframe tbody tr th:only-of-type {\n",
       "        vertical-align: middle;\n",
       "    }\n",
       "\n",
       "    .dataframe tbody tr th {\n",
       "        vertical-align: top;\n",
       "    }\n",
       "\n",
       "    .dataframe thead th {\n",
       "        text-align: right;\n",
       "    }\n",
       "</style>\n",
       "<table border=\"1\" class=\"dataframe\">\n",
       "  <thead>\n",
       "    <tr style=\"text-align: right;\">\n",
       "      <th></th>\n",
       "      <th>id</th>\n",
       "      <th>bin_0</th>\n",
       "      <th>bin_1</th>\n",
       "      <th>bin_2</th>\n",
       "      <th>bin_3</th>\n",
       "      <th>bin_4</th>\n",
       "      <th>nom_0</th>\n",
       "      <th>nom_1</th>\n",
       "      <th>nom_2</th>\n",
       "      <th>nom_3</th>\n",
       "      <th>...</th>\n",
       "      <th>nom_8</th>\n",
       "      <th>nom_9</th>\n",
       "      <th>ord_0</th>\n",
       "      <th>ord_1</th>\n",
       "      <th>ord_2</th>\n",
       "      <th>ord_3</th>\n",
       "      <th>ord_4</th>\n",
       "      <th>ord_5</th>\n",
       "      <th>day</th>\n",
       "      <th>month</th>\n",
       "    </tr>\n",
       "  </thead>\n",
       "  <tbody>\n",
       "    <tr>\n",
       "      <th>0</th>\n",
       "      <td>600000</td>\n",
       "      <td>0.0</td>\n",
       "      <td>0.0</td>\n",
       "      <td>0.0</td>\n",
       "      <td>F</td>\n",
       "      <td>Y</td>\n",
       "      <td>Blue</td>\n",
       "      <td>Polygon</td>\n",
       "      <td>Axolotl</td>\n",
       "      <td>Finland</td>\n",
       "      <td>...</td>\n",
       "      <td>ca9ad1d4b</td>\n",
       "      <td>fced9e114</td>\n",
       "      <td>3.0</td>\n",
       "      <td>Novice</td>\n",
       "      <td>Boiling Hot</td>\n",
       "      <td>f</td>\n",
       "      <td>U</td>\n",
       "      <td>oU</td>\n",
       "      <td>3.0</td>\n",
       "      <td>9.0</td>\n",
       "    </tr>\n",
       "    <tr>\n",
       "      <th>1</th>\n",
       "      <td>600001</td>\n",
       "      <td>0.0</td>\n",
       "      <td>0.0</td>\n",
       "      <td>0.0</td>\n",
       "      <td>F</td>\n",
       "      <td>Y</td>\n",
       "      <td>Red</td>\n",
       "      <td>Circle</td>\n",
       "      <td>Lion</td>\n",
       "      <td>Russia</td>\n",
       "      <td>...</td>\n",
       "      <td>060a21580</td>\n",
       "      <td>7ca8775da</td>\n",
       "      <td>1.0</td>\n",
       "      <td>Novice</td>\n",
       "      <td>Cold</td>\n",
       "      <td>n</td>\n",
       "      <td>N</td>\n",
       "      <td>NaN</td>\n",
       "      <td>2.0</td>\n",
       "      <td>8.0</td>\n",
       "    </tr>\n",
       "    <tr>\n",
       "      <th>2</th>\n",
       "      <td>600002</td>\n",
       "      <td>0.0</td>\n",
       "      <td>0.0</td>\n",
       "      <td>0.0</td>\n",
       "      <td>F</td>\n",
       "      <td>Y</td>\n",
       "      <td>Blue</td>\n",
       "      <td>Circle</td>\n",
       "      <td>Axolotl</td>\n",
       "      <td>Russia</td>\n",
       "      <td>...</td>\n",
       "      <td>165e81a00</td>\n",
       "      <td>5940334c9</td>\n",
       "      <td>1.0</td>\n",
       "      <td>Expert</td>\n",
       "      <td>Warm</td>\n",
       "      <td>i</td>\n",
       "      <td>N</td>\n",
       "      <td>DN</td>\n",
       "      <td>2.0</td>\n",
       "      <td>6.0</td>\n",
       "    </tr>\n",
       "    <tr>\n",
       "      <th>3</th>\n",
       "      <td>600003</td>\n",
       "      <td>1.0</td>\n",
       "      <td>0.0</td>\n",
       "      <td>0.0</td>\n",
       "      <td>F</td>\n",
       "      <td>N</td>\n",
       "      <td>Red</td>\n",
       "      <td>Polygon</td>\n",
       "      <td>Axolotl</td>\n",
       "      <td>Costa Rica</td>\n",
       "      <td>...</td>\n",
       "      <td>77d41330d</td>\n",
       "      <td>6fbdeefc8</td>\n",
       "      <td>1.0</td>\n",
       "      <td>Expert</td>\n",
       "      <td>Hot</td>\n",
       "      <td>m</td>\n",
       "      <td>B</td>\n",
       "      <td>AG</td>\n",
       "      <td>1.0</td>\n",
       "      <td>6.0</td>\n",
       "    </tr>\n",
       "    <tr>\n",
       "      <th>4</th>\n",
       "      <td>600004</td>\n",
       "      <td>0.0</td>\n",
       "      <td>0.0</td>\n",
       "      <td>1.0</td>\n",
       "      <td>F</td>\n",
       "      <td>Y</td>\n",
       "      <td>Red</td>\n",
       "      <td>Circle</td>\n",
       "      <td>NaN</td>\n",
       "      <td>Finland</td>\n",
       "      <td>...</td>\n",
       "      <td>2218d9dfe</td>\n",
       "      <td>2a27c8fde</td>\n",
       "      <td>1.0</td>\n",
       "      <td>Contributor</td>\n",
       "      <td>Lava Hot</td>\n",
       "      <td>o</td>\n",
       "      <td>J</td>\n",
       "      <td>DT</td>\n",
       "      <td>3.0</td>\n",
       "      <td>3.0</td>\n",
       "    </tr>\n",
       "    <tr>\n",
       "      <th>...</th>\n",
       "      <td>...</td>\n",
       "      <td>...</td>\n",
       "      <td>...</td>\n",
       "      <td>...</td>\n",
       "      <td>...</td>\n",
       "      <td>...</td>\n",
       "      <td>...</td>\n",
       "      <td>...</td>\n",
       "      <td>...</td>\n",
       "      <td>...</td>\n",
       "      <td>...</td>\n",
       "      <td>...</td>\n",
       "      <td>...</td>\n",
       "      <td>...</td>\n",
       "      <td>...</td>\n",
       "      <td>...</td>\n",
       "      <td>...</td>\n",
       "      <td>...</td>\n",
       "      <td>...</td>\n",
       "      <td>...</td>\n",
       "      <td>...</td>\n",
       "    </tr>\n",
       "    <tr>\n",
       "      <th>399995</th>\n",
       "      <td>999995</td>\n",
       "      <td>0.0</td>\n",
       "      <td>0.0</td>\n",
       "      <td>1.0</td>\n",
       "      <td>T</td>\n",
       "      <td>N</td>\n",
       "      <td>Red</td>\n",
       "      <td>Trapezoid</td>\n",
       "      <td>Axolotl</td>\n",
       "      <td>Costa Rica</td>\n",
       "      <td>...</td>\n",
       "      <td>c1a4acfaf</td>\n",
       "      <td>45a68dd2e</td>\n",
       "      <td>2.0</td>\n",
       "      <td>Expert</td>\n",
       "      <td>Warm</td>\n",
       "      <td>n</td>\n",
       "      <td>R</td>\n",
       "      <td>dp</td>\n",
       "      <td>2.0</td>\n",
       "      <td>12.0</td>\n",
       "    </tr>\n",
       "    <tr>\n",
       "      <th>399996</th>\n",
       "      <td>999996</td>\n",
       "      <td>0.0</td>\n",
       "      <td>0.0</td>\n",
       "      <td>0.0</td>\n",
       "      <td>F</td>\n",
       "      <td>N</td>\n",
       "      <td>Red</td>\n",
       "      <td>Polygon</td>\n",
       "      <td>Dog</td>\n",
       "      <td>Russia</td>\n",
       "      <td>...</td>\n",
       "      <td>220190c9e</td>\n",
       "      <td>e48348d66</td>\n",
       "      <td>1.0</td>\n",
       "      <td>Contributor</td>\n",
       "      <td>NaN</td>\n",
       "      <td>n</td>\n",
       "      <td>X</td>\n",
       "      <td>US</td>\n",
       "      <td>1.0</td>\n",
       "      <td>5.0</td>\n",
       "    </tr>\n",
       "    <tr>\n",
       "      <th>399997</th>\n",
       "      <td>999997</td>\n",
       "      <td>0.0</td>\n",
       "      <td>0.0</td>\n",
       "      <td>1.0</td>\n",
       "      <td>T</td>\n",
       "      <td>N</td>\n",
       "      <td>Red</td>\n",
       "      <td>Triangle</td>\n",
       "      <td>Hamster</td>\n",
       "      <td>NaN</td>\n",
       "      <td>...</td>\n",
       "      <td>cc5495ab3</td>\n",
       "      <td>47021df0d</td>\n",
       "      <td>1.0</td>\n",
       "      <td>Grandmaster</td>\n",
       "      <td>Boiling Hot</td>\n",
       "      <td>m</td>\n",
       "      <td>P</td>\n",
       "      <td>TL</td>\n",
       "      <td>1.0</td>\n",
       "      <td>6.0</td>\n",
       "    </tr>\n",
       "    <tr>\n",
       "      <th>399998</th>\n",
       "      <td>999998</td>\n",
       "      <td>0.0</td>\n",
       "      <td>0.0</td>\n",
       "      <td>0.0</td>\n",
       "      <td>F</td>\n",
       "      <td>Y</td>\n",
       "      <td>Red</td>\n",
       "      <td>Circle</td>\n",
       "      <td>Dog</td>\n",
       "      <td>Costa Rica</td>\n",
       "      <td>...</td>\n",
       "      <td>32b33a4b4</td>\n",
       "      <td>e4bf32721</td>\n",
       "      <td>3.0</td>\n",
       "      <td>Novice</td>\n",
       "      <td>Lava Hot</td>\n",
       "      <td>h</td>\n",
       "      <td>L</td>\n",
       "      <td>DI</td>\n",
       "      <td>2.0</td>\n",
       "      <td>11.0</td>\n",
       "    </tr>\n",
       "    <tr>\n",
       "      <th>399999</th>\n",
       "      <td>999999</td>\n",
       "      <td>0.0</td>\n",
       "      <td>0.0</td>\n",
       "      <td>1.0</td>\n",
       "      <td>F</td>\n",
       "      <td>N</td>\n",
       "      <td>Blue</td>\n",
       "      <td>Circle</td>\n",
       "      <td>Lion</td>\n",
       "      <td>Finland</td>\n",
       "      <td>...</td>\n",
       "      <td>dda9ca69e</td>\n",
       "      <td>4d921f911</td>\n",
       "      <td>3.0</td>\n",
       "      <td>Contributor</td>\n",
       "      <td>Freezing</td>\n",
       "      <td>c</td>\n",
       "      <td>N</td>\n",
       "      <td>vx</td>\n",
       "      <td>3.0</td>\n",
       "      <td>6.0</td>\n",
       "    </tr>\n",
       "  </tbody>\n",
       "</table>\n",
       "<p>400000 rows × 24 columns</p>\n",
       "</div>"
      ],
      "text/plain": [
       "            id  bin_0  bin_1  bin_2 bin_3 bin_4 nom_0      nom_1    nom_2  \\\n",
       "0       600000    0.0    0.0    0.0     F     Y  Blue    Polygon  Axolotl   \n",
       "1       600001    0.0    0.0    0.0     F     Y   Red     Circle     Lion   \n",
       "2       600002    0.0    0.0    0.0     F     Y  Blue     Circle  Axolotl   \n",
       "3       600003    1.0    0.0    0.0     F     N   Red    Polygon  Axolotl   \n",
       "4       600004    0.0    0.0    1.0     F     Y   Red     Circle      NaN   \n",
       "...        ...    ...    ...    ...   ...   ...   ...        ...      ...   \n",
       "399995  999995    0.0    0.0    1.0     T     N   Red  Trapezoid  Axolotl   \n",
       "399996  999996    0.0    0.0    0.0     F     N   Red    Polygon      Dog   \n",
       "399997  999997    0.0    0.0    1.0     T     N   Red   Triangle  Hamster   \n",
       "399998  999998    0.0    0.0    0.0     F     Y   Red     Circle      Dog   \n",
       "399999  999999    0.0    0.0    1.0     F     N  Blue     Circle     Lion   \n",
       "\n",
       "             nom_3  ...      nom_8      nom_9 ord_0        ord_1        ord_2  \\\n",
       "0          Finland  ...  ca9ad1d4b  fced9e114   3.0       Novice  Boiling Hot   \n",
       "1           Russia  ...  060a21580  7ca8775da   1.0       Novice         Cold   \n",
       "2           Russia  ...  165e81a00  5940334c9   1.0       Expert         Warm   \n",
       "3       Costa Rica  ...  77d41330d  6fbdeefc8   1.0       Expert          Hot   \n",
       "4          Finland  ...  2218d9dfe  2a27c8fde   1.0  Contributor     Lava Hot   \n",
       "...            ...  ...        ...        ...   ...          ...          ...   \n",
       "399995  Costa Rica  ...  c1a4acfaf  45a68dd2e   2.0       Expert         Warm   \n",
       "399996      Russia  ...  220190c9e  e48348d66   1.0  Contributor          NaN   \n",
       "399997         NaN  ...  cc5495ab3  47021df0d   1.0  Grandmaster  Boiling Hot   \n",
       "399998  Costa Rica  ...  32b33a4b4  e4bf32721   3.0       Novice     Lava Hot   \n",
       "399999     Finland  ...  dda9ca69e  4d921f911   3.0  Contributor     Freezing   \n",
       "\n",
       "       ord_3  ord_4 ord_5  day month  \n",
       "0          f      U    oU  3.0   9.0  \n",
       "1          n      N   NaN  2.0   8.0  \n",
       "2          i      N    DN  2.0   6.0  \n",
       "3          m      B    AG  1.0   6.0  \n",
       "4          o      J    DT  3.0   3.0  \n",
       "...      ...    ...   ...  ...   ...  \n",
       "399995     n      R    dp  2.0  12.0  \n",
       "399996     n      X    US  1.0   5.0  \n",
       "399997     m      P    TL  1.0   6.0  \n",
       "399998     h      L    DI  2.0  11.0  \n",
       "399999     c      N    vx  3.0   6.0  \n",
       "\n",
       "[400000 rows x 24 columns]"
      ]
     },
     "execution_count": 4,
     "metadata": {},
     "output_type": "execute_result"
    }
   ],
   "source": [
    "df_test"
   ]
  },
  {
   "cell_type": "code",
   "execution_count": 5,
   "id": "e8763d8a-11e3-4c89-9564-f1c1722f61fe",
   "metadata": {
    "colab": {
     "base_uri": "https://localhost:8080/"
    },
    "id": "e8763d8a-11e3-4c89-9564-f1c1722f61fe",
    "outputId": "9a70ca7e-1736-41bb-fe69-79b8e4413202"
   },
   "outputs": [
    {
     "name": "stdout",
     "output_type": "stream",
     "text": [
      "<class 'pandas.core.frame.DataFrame'>\n",
      "RangeIndex: 600000 entries, 0 to 599999\n",
      "Data columns (total 25 columns):\n",
      " #   Column  Non-Null Count   Dtype  \n",
      "---  ------  --------------   -----  \n",
      " 0   id      600000 non-null  int64  \n",
      " 1   bin_0   582106 non-null  float64\n",
      " 2   bin_1   581997 non-null  float64\n",
      " 3   bin_2   582070 non-null  float64\n",
      " 4   bin_3   581986 non-null  object \n",
      " 5   bin_4   581953 non-null  object \n",
      " 6   nom_0   581748 non-null  object \n",
      " 7   nom_1   581844 non-null  object \n",
      " 8   nom_2   581965 non-null  object \n",
      " 9   nom_3   581879 non-null  object \n",
      " 10  nom_4   581965 non-null  object \n",
      " 11  nom_5   582222 non-null  object \n",
      " 12  nom_6   581869 non-null  object \n",
      " 13  nom_7   581997 non-null  object \n",
      " 14  nom_8   582245 non-null  object \n",
      " 15  nom_9   581927 non-null  object \n",
      " 16  ord_0   581712 non-null  float64\n",
      " 17  ord_1   581959 non-null  object \n",
      " 18  ord_2   581925 non-null  object \n",
      " 19  ord_3   582084 non-null  object \n",
      " 20  ord_4   582070 non-null  object \n",
      " 21  ord_5   582287 non-null  object \n",
      " 22  day     582048 non-null  float64\n",
      " 23  month   582012 non-null  float64\n",
      " 24  target  600000 non-null  int64  \n",
      "dtypes: float64(6), int64(2), object(17)\n",
      "memory usage: 114.4+ MB\n"
     ]
    }
   ],
   "source": [
    "df_train.info()"
   ]
  },
  {
   "cell_type": "code",
   "execution_count": 6,
   "id": "0afa0340-93b7-4873-9459-5efed4f4d147",
   "metadata": {
    "colab": {
     "base_uri": "https://localhost:8080/",
     "height": 297
    },
    "id": "0afa0340-93b7-4873-9459-5efed4f4d147",
    "outputId": "d9107340-1f96-46be-db98-736b20cd75a7"
   },
   "outputs": [
    {
     "data": {
      "text/html": [
       "<div>\n",
       "<style scoped>\n",
       "    .dataframe tbody tr th:only-of-type {\n",
       "        vertical-align: middle;\n",
       "    }\n",
       "\n",
       "    .dataframe tbody tr th {\n",
       "        vertical-align: top;\n",
       "    }\n",
       "\n",
       "    .dataframe thead th {\n",
       "        text-align: right;\n",
       "    }\n",
       "</style>\n",
       "<table border=\"1\" class=\"dataframe\">\n",
       "  <thead>\n",
       "    <tr style=\"text-align: right;\">\n",
       "      <th></th>\n",
       "      <th>id</th>\n",
       "      <th>bin_0</th>\n",
       "      <th>bin_1</th>\n",
       "      <th>bin_2</th>\n",
       "      <th>ord_0</th>\n",
       "      <th>day</th>\n",
       "      <th>month</th>\n",
       "      <th>target</th>\n",
       "    </tr>\n",
       "  </thead>\n",
       "  <tbody>\n",
       "    <tr>\n",
       "      <th>count</th>\n",
       "      <td>600000.000000</td>\n",
       "      <td>582106.000000</td>\n",
       "      <td>581997.000000</td>\n",
       "      <td>582070.000000</td>\n",
       "      <td>581712.000000</td>\n",
       "      <td>582048.000000</td>\n",
       "      <td>582012.000000</td>\n",
       "      <td>600000.000000</td>\n",
       "    </tr>\n",
       "    <tr>\n",
       "      <th>mean</th>\n",
       "      <td>299999.500000</td>\n",
       "      <td>0.092301</td>\n",
       "      <td>0.185532</td>\n",
       "      <td>0.278704</td>\n",
       "      <td>1.948224</td>\n",
       "      <td>4.112767</td>\n",
       "      <td>6.371317</td>\n",
       "      <td>0.187205</td>\n",
       "    </tr>\n",
       "    <tr>\n",
       "      <th>std</th>\n",
       "      <td>173205.225094</td>\n",
       "      <td>0.289451</td>\n",
       "      <td>0.388729</td>\n",
       "      <td>0.448362</td>\n",
       "      <td>0.853904</td>\n",
       "      <td>2.034430</td>\n",
       "      <td>3.458959</td>\n",
       "      <td>0.390076</td>\n",
       "    </tr>\n",
       "    <tr>\n",
       "      <th>min</th>\n",
       "      <td>0.000000</td>\n",
       "      <td>0.000000</td>\n",
       "      <td>0.000000</td>\n",
       "      <td>0.000000</td>\n",
       "      <td>1.000000</td>\n",
       "      <td>1.000000</td>\n",
       "      <td>1.000000</td>\n",
       "      <td>0.000000</td>\n",
       "    </tr>\n",
       "    <tr>\n",
       "      <th>25%</th>\n",
       "      <td>149999.750000</td>\n",
       "      <td>0.000000</td>\n",
       "      <td>0.000000</td>\n",
       "      <td>0.000000</td>\n",
       "      <td>1.000000</td>\n",
       "      <td>2.000000</td>\n",
       "      <td>3.000000</td>\n",
       "      <td>0.000000</td>\n",
       "    </tr>\n",
       "    <tr>\n",
       "      <th>50%</th>\n",
       "      <td>299999.500000</td>\n",
       "      <td>0.000000</td>\n",
       "      <td>0.000000</td>\n",
       "      <td>0.000000</td>\n",
       "      <td>2.000000</td>\n",
       "      <td>5.000000</td>\n",
       "      <td>6.000000</td>\n",
       "      <td>0.000000</td>\n",
       "    </tr>\n",
       "    <tr>\n",
       "      <th>75%</th>\n",
       "      <td>449999.250000</td>\n",
       "      <td>0.000000</td>\n",
       "      <td>0.000000</td>\n",
       "      <td>1.000000</td>\n",
       "      <td>3.000000</td>\n",
       "      <td>6.000000</td>\n",
       "      <td>8.000000</td>\n",
       "      <td>0.000000</td>\n",
       "    </tr>\n",
       "    <tr>\n",
       "      <th>max</th>\n",
       "      <td>599999.000000</td>\n",
       "      <td>1.000000</td>\n",
       "      <td>1.000000</td>\n",
       "      <td>1.000000</td>\n",
       "      <td>3.000000</td>\n",
       "      <td>7.000000</td>\n",
       "      <td>12.000000</td>\n",
       "      <td>1.000000</td>\n",
       "    </tr>\n",
       "  </tbody>\n",
       "</table>\n",
       "</div>"
      ],
      "text/plain": [
       "                  id          bin_0          bin_1          bin_2  \\\n",
       "count  600000.000000  582106.000000  581997.000000  582070.000000   \n",
       "mean   299999.500000       0.092301       0.185532       0.278704   \n",
       "std    173205.225094       0.289451       0.388729       0.448362   \n",
       "min         0.000000       0.000000       0.000000       0.000000   \n",
       "25%    149999.750000       0.000000       0.000000       0.000000   \n",
       "50%    299999.500000       0.000000       0.000000       0.000000   \n",
       "75%    449999.250000       0.000000       0.000000       1.000000   \n",
       "max    599999.000000       1.000000       1.000000       1.000000   \n",
       "\n",
       "               ord_0            day          month         target  \n",
       "count  581712.000000  582048.000000  582012.000000  600000.000000  \n",
       "mean        1.948224       4.112767       6.371317       0.187205  \n",
       "std         0.853904       2.034430       3.458959       0.390076  \n",
       "min         1.000000       1.000000       1.000000       0.000000  \n",
       "25%         1.000000       2.000000       3.000000       0.000000  \n",
       "50%         2.000000       5.000000       6.000000       0.000000  \n",
       "75%         3.000000       6.000000       8.000000       0.000000  \n",
       "max         3.000000       7.000000      12.000000       1.000000  "
      ]
     },
     "execution_count": 6,
     "metadata": {},
     "output_type": "execute_result"
    }
   ],
   "source": [
    "df_train.describe()"
   ]
  },
  {
   "cell_type": "code",
   "execution_count": 7,
   "id": "17f3bf56-343b-4df7-a6e3-f7cffd8aebbd",
   "metadata": {
    "colab": {
     "base_uri": "https://localhost:8080/"
    },
    "id": "17f3bf56-343b-4df7-a6e3-f7cffd8aebbd",
    "outputId": "136df6cf-adfd-4095-b75c-95b5a224e905"
   },
   "outputs": [
    {
     "data": {
      "text/plain": [
       "id            0\n",
       "bin_0     17894\n",
       "bin_1     18003\n",
       "bin_2     17930\n",
       "bin_3     18014\n",
       "bin_4     18047\n",
       "nom_0     18252\n",
       "nom_1     18156\n",
       "nom_2     18035\n",
       "nom_3     18121\n",
       "nom_4     18035\n",
       "nom_5     17778\n",
       "nom_6     18131\n",
       "nom_7     18003\n",
       "nom_8     17755\n",
       "nom_9     18073\n",
       "ord_0     18288\n",
       "ord_1     18041\n",
       "ord_2     18075\n",
       "ord_3     17916\n",
       "ord_4     17930\n",
       "ord_5     17713\n",
       "day       17952\n",
       "month     17988\n",
       "target        0\n",
       "dtype: int64"
      ]
     },
     "execution_count": 7,
     "metadata": {},
     "output_type": "execute_result"
    }
   ],
   "source": [
    "df_train.isna().sum()"
   ]
  },
  {
   "cell_type": "code",
   "execution_count": 8,
   "id": "d3e11947-466b-48c2-83cf-f97859918873",
   "metadata": {
    "colab": {
     "base_uri": "https://localhost:8080/"
    },
    "id": "d3e11947-466b-48c2-83cf-f97859918873",
    "outputId": "51a69b2d-dea5-4f75-cc9b-3518677e884d"
   },
   "outputs": [
    {
     "name": "stdout",
     "output_type": "stream",
     "text": [
      "<class 'pandas.core.frame.DataFrame'>\n",
      "RangeIndex: 600000 entries, 0 to 599999\n",
      "Data columns (total 25 columns):\n",
      " #   Column  Non-Null Count   Dtype  \n",
      "---  ------  --------------   -----  \n",
      " 0   id      600000 non-null  int64  \n",
      " 1   bin_0   582106 non-null  float64\n",
      " 2   bin_1   581997 non-null  float64\n",
      " 3   bin_2   582070 non-null  float64\n",
      " 4   bin_3   581986 non-null  object \n",
      " 5   bin_4   581953 non-null  object \n",
      " 6   nom_0   581748 non-null  object \n",
      " 7   nom_1   581844 non-null  object \n",
      " 8   nom_2   581965 non-null  object \n",
      " 9   nom_3   581879 non-null  object \n",
      " 10  nom_4   581965 non-null  object \n",
      " 11  nom_5   582222 non-null  object \n",
      " 12  nom_6   581869 non-null  object \n",
      " 13  nom_7   581997 non-null  object \n",
      " 14  nom_8   582245 non-null  object \n",
      " 15  nom_9   581927 non-null  object \n",
      " 16  ord_0   581712 non-null  float64\n",
      " 17  ord_1   581959 non-null  object \n",
      " 18  ord_2   581925 non-null  object \n",
      " 19  ord_3   582084 non-null  object \n",
      " 20  ord_4   582070 non-null  object \n",
      " 21  ord_5   582287 non-null  object \n",
      " 22  day     582048 non-null  float64\n",
      " 23  month   582012 non-null  float64\n",
      " 24  target  600000 non-null  int64  \n",
      "dtypes: float64(6), int64(2), object(17)\n",
      "memory usage: 114.4+ MB\n"
     ]
    }
   ],
   "source": [
    "df_train.info()"
   ]
  },
  {
   "cell_type": "markdown",
   "id": "e2740d8d-7d12-47e6-988c-f311e1fd250c",
   "metadata": {
    "id": "e2740d8d-7d12-47e6-988c-f311e1fd250c"
   },
   "source": [
    "# DATA TIDING"
   ]
  },
  {
   "cell_type": "code",
   "execution_count": 9,
   "id": "d9abddb8-ba04-408d-b97e-b6ea92bcbcb2",
   "metadata": {
    "id": "d9abddb8-ba04-408d-b97e-b6ea92bcbcb2"
   },
   "outputs": [],
   "source": [
    "y=df_train.target # target values\n",
    "df_train=df_train.drop([\"id\",\"target\"],axis=1) # drop id and target columns , update the dataframe"
   ]
  },
  {
   "cell_type": "markdown",
   "id": "81d49d63-0887-4f68-b4f0-814620a8ba5e",
   "metadata": {
    "id": "81d49d63-0887-4f68-b4f0-814620a8ba5e"
   },
   "source": [
    "   #                                            IMPUTING"
   ]
  },
  {
   "cell_type": "code",
   "execution_count": 10,
   "id": "8889f06e-d47d-4a6b-b033-a4898a68659f",
   "metadata": {
    "id": "8889f06e-d47d-4a6b-b033-a4898a68659f"
   },
   "outputs": [],
   "source": [
    "from sklearn.impute import SimpleImputer"
   ]
  },
  {
   "cell_type": "code",
   "execution_count": 11,
   "id": "17005b0a-b0dd-4552-a4df-b527b50ce689",
   "metadata": {
    "id": "17005b0a-b0dd-4552-a4df-b527b50ce689"
   },
   "outputs": [],
   "source": [
    "simpimp=SimpleImputer(missing_values=np.nan,strategy='most_frequent')\n",
    "df_train=pd.DataFrame(simpimp.fit_transform(df_train.fillna(np.nan)),columns=df_train.columns).astype(df_train.dtypes)\n",
    "\n",
    "                                                                                                                 "
   ]
  },
  {
   "cell_type": "code",
   "execution_count": 12,
   "id": "2dfd191d-273c-459c-bea3-80008de77065",
   "metadata": {
    "id": "2dfd191d-273c-459c-bea3-80008de77065"
   },
   "outputs": [
    {
     "data": {
      "text/plain": [
       "bin_0    float64\n",
       "bin_1    float64\n",
       "bin_2    float64\n",
       "bin_3     object\n",
       "bin_4     object\n",
       "nom_0     object\n",
       "nom_1     object\n",
       "nom_2     object\n",
       "nom_3     object\n",
       "nom_4     object\n",
       "nom_5     object\n",
       "nom_6     object\n",
       "nom_7     object\n",
       "nom_8     object\n",
       "nom_9     object\n",
       "ord_0    float64\n",
       "ord_1     object\n",
       "ord_2     object\n",
       "ord_3     object\n",
       "ord_4     object\n",
       "ord_5     object\n",
       "day      float64\n",
       "month    float64\n",
       "dtype: object"
      ]
     },
     "execution_count": 12,
     "metadata": {},
     "output_type": "execute_result"
    }
   ],
   "source": [
    "df_train.dtypes"
   ]
  },
  {
   "cell_type": "markdown",
   "id": "47a1f801-a251-462c-baa1-be684a09af58",
   "metadata": {
    "id": "47a1f801-a251-462c-baa1-be684a09af58"
   },
   "source": [
    "# CATEGORICAL ENCODING"
   ]
  },
  {
   "cell_type": "code",
   "execution_count": 13,
   "id": "94765f81-c811-457a-969e-9c623a3c03d3",
   "metadata": {
    "id": "94765f81-c811-457a-969e-9c623a3c03d3"
   },
   "outputs": [],
   "source": [
    "from sklearn.preprocessing import OrdinalEncoder\n",
    "from sklearn.preprocessing import OneHotEncoder\n",
    "from sklearn.compose import ColumnTransformer\n",
    "from sklearn.feature_extraction import FeatureHasher"
   ]
  },
  {
   "cell_type": "code",
   "execution_count": 14,
   "id": "5cefb7fb-4935-485f-af1a-52d58c34104c",
   "metadata": {
    "id": "5cefb7fb-4935-485f-af1a-52d58c34104c"
   },
   "outputs": [],
   "source": [
    "def category_type(data):\n",
    "    for column in df_train.columns:\n",
    "        if df_train[column].dtypes== object:\n",
    "            df_train[column]=df_train[column].astype(\"category\")\n"
   ]
  },
  {
   "cell_type": "markdown",
   "id": "f1dffff6-9b10-4a93-852e-ee9f38cbbfbf",
   "metadata": {
    "id": "f1dffff6-9b10-4a93-852e-ee9f38cbbfbf"
   },
   "source": [
    "# ORDINAL and ONE HOT ENCODING"
   ]
  },
  {
   "cell_type": "code",
   "execution_count": 15,
   "id": "037f52f9-9ba6-4ffc-a2ea-a564957141e6",
   "metadata": {
    "id": "037f52f9-9ba6-4ffc-a2ea-a564957141e6"
   },
   "outputs": [],
   "source": [
    "#df_train.iloc[:,3:5]##  Ordinal Encoding\n",
    "#df_train.iloc[:,5:15]## One hot encoding \n",
    "#df_train.iloc[:,16:21]##ordinal encoding\n",
    "preprocessor=ColumnTransformer(transformers=[(\"ordinal_encoding\",OrdinalEncoder(),df_train.iloc[:,3:5].columns.union(df_train.iloc[:,16:21].columns)), \n",
    "                                              (\"one_hot_encoding\",OneHotEncoder(drop=\"first\"),df_train.iloc[:,5:15].columns)],remainder=\"passthrough\")\n",
    "#preprocessor=ColumnTransformer(transformers=[(\"ordinal_encoding\",OrdinalEncoder(),df_train.iloc[:,3:15].columns.union(df_train.iloc[:,16:21].columns))],\n",
    "                                 #remainder=\"passthrough\")\n",
    "#preprocessor=ColumnTransformer(transformers=[(\"feature_hasher\",FeatureHasher(n_features=23,input_type='string'),[df_train.iloc[:,3:15].columns.union(df_train.iloc[:,16:21].columns)])],\n",
    "                                 #remainder=\"passthrough\")                                                \n",
    "\n"
   ]
  },
  {
   "cell_type": "code",
   "execution_count": 16,
   "id": "44948b83-505d-488e-9ca0-cf03c9cdfdda",
   "metadata": {
    "id": "44948b83-505d-488e-9ca0-cf03c9cdfdda"
   },
   "outputs": [],
   "source": [
    "#X= preprocessor.fit_transform(df_train.iloc[:400000]).toarray()\n",
    "X= preprocessor.fit_transform(df_train).toarray()"
   ]
  },
  {
   "cell_type": "code",
   "execution_count": 17,
   "id": "610ecd59-19a4-4d88-84fa-f79dee084910",
   "metadata": {
    "id": "610ecd59-19a4-4d88-84fa-f79dee084910",
    "outputId": "c13488b5-0a8a-4a30-de6e-c5310b7a17af"
   },
   "outputs": [
    {
     "data": {
      "text/html": [
       "<div>\n",
       "<style scoped>\n",
       "    .dataframe tbody tr th:only-of-type {\n",
       "        vertical-align: middle;\n",
       "    }\n",
       "\n",
       "    .dataframe tbody tr th {\n",
       "        vertical-align: top;\n",
       "    }\n",
       "\n",
       "    .dataframe thead th {\n",
       "        text-align: right;\n",
       "    }\n",
       "</style>\n",
       "<table border=\"1\" class=\"dataframe\">\n",
       "  <thead>\n",
       "    <tr style=\"text-align: right;\">\n",
       "      <th></th>\n",
       "      <th>0</th>\n",
       "      <th>1</th>\n",
       "      <th>2</th>\n",
       "      <th>3</th>\n",
       "      <th>4</th>\n",
       "      <th>5</th>\n",
       "      <th>6</th>\n",
       "      <th>7</th>\n",
       "      <th>8</th>\n",
       "      <th>9</th>\n",
       "      <th>...</th>\n",
       "      <th>5419</th>\n",
       "      <th>5420</th>\n",
       "      <th>5421</th>\n",
       "      <th>5422</th>\n",
       "      <th>5423</th>\n",
       "      <th>5424</th>\n",
       "      <th>5425</th>\n",
       "      <th>5426</th>\n",
       "      <th>5427</th>\n",
       "      <th>5428</th>\n",
       "    </tr>\n",
       "  </thead>\n",
       "  <tbody>\n",
       "    <tr>\n",
       "      <th>0</th>\n",
       "      <td>0.0</td>\n",
       "      <td>0.0</td>\n",
       "      <td>0.0</td>\n",
       "      <td>3.0</td>\n",
       "      <td>2.0</td>\n",
       "      <td>20.0</td>\n",
       "      <td>56.0</td>\n",
       "      <td>0.0</td>\n",
       "      <td>1.0</td>\n",
       "      <td>0.0</td>\n",
       "      <td>...</td>\n",
       "      <td>0.0</td>\n",
       "      <td>0.0</td>\n",
       "      <td>0.0</td>\n",
       "      <td>0.0</td>\n",
       "      <td>0.0</td>\n",
       "      <td>0.0</td>\n",
       "      <td>0.0</td>\n",
       "      <td>3.0</td>\n",
       "      <td>6.0</td>\n",
       "      <td>3.0</td>\n",
       "    </tr>\n",
       "    <tr>\n",
       "      <th>1</th>\n",
       "      <td>0.0</td>\n",
       "      <td>1.0</td>\n",
       "      <td>2.0</td>\n",
       "      <td>5.0</td>\n",
       "      <td>4.0</td>\n",
       "      <td>23.0</td>\n",
       "      <td>150.0</td>\n",
       "      <td>0.0</td>\n",
       "      <td>1.0</td>\n",
       "      <td>0.0</td>\n",
       "      <td>...</td>\n",
       "      <td>0.0</td>\n",
       "      <td>0.0</td>\n",
       "      <td>0.0</td>\n",
       "      <td>0.0</td>\n",
       "      <td>1.0</td>\n",
       "      <td>1.0</td>\n",
       "      <td>0.0</td>\n",
       "      <td>3.0</td>\n",
       "      <td>7.0</td>\n",
       "      <td>7.0</td>\n",
       "    </tr>\n",
       "    <tr>\n",
       "      <th>2</th>\n",
       "      <td>0.0</td>\n",
       "      <td>0.0</td>\n",
       "      <td>4.0</td>\n",
       "      <td>2.0</td>\n",
       "      <td>13.0</td>\n",
       "      <td>15.0</td>\n",
       "      <td>105.0</td>\n",
       "      <td>0.0</td>\n",
       "      <td>1.0</td>\n",
       "      <td>0.0</td>\n",
       "      <td>...</td>\n",
       "      <td>0.0</td>\n",
       "      <td>0.0</td>\n",
       "      <td>0.0</td>\n",
       "      <td>0.0</td>\n",
       "      <td>0.0</td>\n",
       "      <td>1.0</td>\n",
       "      <td>0.0</td>\n",
       "      <td>3.0</td>\n",
       "      <td>5.0</td>\n",
       "      <td>9.0</td>\n",
       "    </tr>\n",
       "    <tr>\n",
       "      <th>3</th>\n",
       "      <td>0.0</td>\n",
       "      <td>0.0</td>\n",
       "      <td>4.0</td>\n",
       "      <td>4.0</td>\n",
       "      <td>0.0</td>\n",
       "      <td>2.0</td>\n",
       "      <td>21.0</td>\n",
       "      <td>0.0</td>\n",
       "      <td>1.0</td>\n",
       "      <td>0.0</td>\n",
       "      <td>...</td>\n",
       "      <td>0.0</td>\n",
       "      <td>0.0</td>\n",
       "      <td>0.0</td>\n",
       "      <td>0.0</td>\n",
       "      <td>0.0</td>\n",
       "      <td>0.0</td>\n",
       "      <td>0.0</td>\n",
       "      <td>1.0</td>\n",
       "      <td>3.0</td>\n",
       "      <td>3.0</td>\n",
       "    </tr>\n",
       "    <tr>\n",
       "      <th>4</th>\n",
       "      <td>1.0</td>\n",
       "      <td>0.0</td>\n",
       "      <td>2.0</td>\n",
       "      <td>1.0</td>\n",
       "      <td>7.0</td>\n",
       "      <td>2.0</td>\n",
       "      <td>50.0</td>\n",
       "      <td>0.0</td>\n",
       "      <td>1.0</td>\n",
       "      <td>0.0</td>\n",
       "      <td>...</td>\n",
       "      <td>0.0</td>\n",
       "      <td>0.0</td>\n",
       "      <td>0.0</td>\n",
       "      <td>0.0</td>\n",
       "      <td>0.0</td>\n",
       "      <td>0.0</td>\n",
       "      <td>0.0</td>\n",
       "      <td>3.0</td>\n",
       "      <td>5.0</td>\n",
       "      <td>12.0</td>\n",
       "    </tr>\n",
       "    <tr>\n",
       "      <th>...</th>\n",
       "      <td>...</td>\n",
       "      <td>...</td>\n",
       "      <td>...</td>\n",
       "      <td>...</td>\n",
       "      <td>...</td>\n",
       "      <td>...</td>\n",
       "      <td>...</td>\n",
       "      <td>...</td>\n",
       "      <td>...</td>\n",
       "      <td>...</td>\n",
       "      <td>...</td>\n",
       "      <td>...</td>\n",
       "      <td>...</td>\n",
       "      <td>...</td>\n",
       "      <td>...</td>\n",
       "      <td>...</td>\n",
       "      <td>...</td>\n",
       "      <td>...</td>\n",
       "      <td>...</td>\n",
       "      <td>...</td>\n",
       "      <td>...</td>\n",
       "    </tr>\n",
       "    <tr>\n",
       "      <th>599995</th>\n",
       "      <td>1.0</td>\n",
       "      <td>0.0</td>\n",
       "      <td>4.0</td>\n",
       "      <td>2.0</td>\n",
       "      <td>0.0</td>\n",
       "      <td>17.0</td>\n",
       "      <td>22.0</td>\n",
       "      <td>0.0</td>\n",
       "      <td>1.0</td>\n",
       "      <td>1.0</td>\n",
       "      <td>...</td>\n",
       "      <td>0.0</td>\n",
       "      <td>0.0</td>\n",
       "      <td>0.0</td>\n",
       "      <td>0.0</td>\n",
       "      <td>0.0</td>\n",
       "      <td>1.0</td>\n",
       "      <td>0.0</td>\n",
       "      <td>3.0</td>\n",
       "      <td>5.0</td>\n",
       "      <td>8.0</td>\n",
       "    </tr>\n",
       "    <tr>\n",
       "      <th>599996</th>\n",
       "      <td>1.0</td>\n",
       "      <td>1.0</td>\n",
       "      <td>4.0</td>\n",
       "      <td>0.0</td>\n",
       "      <td>13.0</td>\n",
       "      <td>13.0</td>\n",
       "      <td>163.0</td>\n",
       "      <td>0.0</td>\n",
       "      <td>0.0</td>\n",
       "      <td>1.0</td>\n",
       "      <td>...</td>\n",
       "      <td>0.0</td>\n",
       "      <td>0.0</td>\n",
       "      <td>0.0</td>\n",
       "      <td>0.0</td>\n",
       "      <td>1.0</td>\n",
       "      <td>0.0</td>\n",
       "      <td>0.0</td>\n",
       "      <td>2.0</td>\n",
       "      <td>3.0</td>\n",
       "      <td>3.0</td>\n",
       "    </tr>\n",
       "    <tr>\n",
       "      <th>599997</th>\n",
       "      <td>0.0</td>\n",
       "      <td>1.0</td>\n",
       "      <td>0.0</td>\n",
       "      <td>2.0</td>\n",
       "      <td>13.0</td>\n",
       "      <td>7.0</td>\n",
       "      <td>42.0</td>\n",
       "      <td>0.0</td>\n",
       "      <td>1.0</td>\n",
       "      <td>0.0</td>\n",
       "      <td>...</td>\n",
       "      <td>0.0</td>\n",
       "      <td>0.0</td>\n",
       "      <td>0.0</td>\n",
       "      <td>0.0</td>\n",
       "      <td>0.0</td>\n",
       "      <td>0.0</td>\n",
       "      <td>0.0</td>\n",
       "      <td>2.0</td>\n",
       "      <td>7.0</td>\n",
       "      <td>5.0</td>\n",
       "    </tr>\n",
       "    <tr>\n",
       "      <th>599998</th>\n",
       "      <td>0.0</td>\n",
       "      <td>1.0</td>\n",
       "      <td>3.0</td>\n",
       "      <td>5.0</td>\n",
       "      <td>12.0</td>\n",
       "      <td>23.0</td>\n",
       "      <td>18.0</td>\n",
       "      <td>0.0</td>\n",
       "      <td>1.0</td>\n",
       "      <td>1.0</td>\n",
       "      <td>...</td>\n",
       "      <td>0.0</td>\n",
       "      <td>0.0</td>\n",
       "      <td>0.0</td>\n",
       "      <td>0.0</td>\n",
       "      <td>1.0</td>\n",
       "      <td>1.0</td>\n",
       "      <td>0.0</td>\n",
       "      <td>1.0</td>\n",
       "      <td>1.0</td>\n",
       "      <td>5.0</td>\n",
       "    </tr>\n",
       "    <tr>\n",
       "      <th>599999</th>\n",
       "      <td>1.0</td>\n",
       "      <td>0.0</td>\n",
       "      <td>0.0</td>\n",
       "      <td>0.0</td>\n",
       "      <td>1.0</td>\n",
       "      <td>14.0</td>\n",
       "      <td>167.0</td>\n",
       "      <td>0.0</td>\n",
       "      <td>0.0</td>\n",
       "      <td>0.0</td>\n",
       "      <td>...</td>\n",
       "      <td>0.0</td>\n",
       "      <td>0.0</td>\n",
       "      <td>0.0</td>\n",
       "      <td>0.0</td>\n",
       "      <td>0.0</td>\n",
       "      <td>0.0</td>\n",
       "      <td>0.0</td>\n",
       "      <td>1.0</td>\n",
       "      <td>5.0</td>\n",
       "      <td>8.0</td>\n",
       "    </tr>\n",
       "  </tbody>\n",
       "</table>\n",
       "<p>600000 rows × 5429 columns</p>\n",
       "</div>"
      ],
      "text/plain": [
       "        0     1     2     3     4     5      6     7     8     9     ...  \\\n",
       "0        0.0   0.0   0.0   3.0   2.0  20.0   56.0   0.0   1.0   0.0  ...   \n",
       "1        0.0   1.0   2.0   5.0   4.0  23.0  150.0   0.0   1.0   0.0  ...   \n",
       "2        0.0   0.0   4.0   2.0  13.0  15.0  105.0   0.0   1.0   0.0  ...   \n",
       "3        0.0   0.0   4.0   4.0   0.0   2.0   21.0   0.0   1.0   0.0  ...   \n",
       "4        1.0   0.0   2.0   1.0   7.0   2.0   50.0   0.0   1.0   0.0  ...   \n",
       "...      ...   ...   ...   ...   ...   ...    ...   ...   ...   ...  ...   \n",
       "599995   1.0   0.0   4.0   2.0   0.0  17.0   22.0   0.0   1.0   1.0  ...   \n",
       "599996   1.0   1.0   4.0   0.0  13.0  13.0  163.0   0.0   0.0   1.0  ...   \n",
       "599997   0.0   1.0   0.0   2.0  13.0   7.0   42.0   0.0   1.0   0.0  ...   \n",
       "599998   0.0   1.0   3.0   5.0  12.0  23.0   18.0   0.0   1.0   1.0  ...   \n",
       "599999   1.0   0.0   0.0   0.0   1.0  14.0  167.0   0.0   0.0   0.0  ...   \n",
       "\n",
       "        5419  5420  5421  5422  5423  5424  5425  5426  5427  5428  \n",
       "0        0.0   0.0   0.0   0.0   0.0   0.0   0.0   3.0   6.0   3.0  \n",
       "1        0.0   0.0   0.0   0.0   1.0   1.0   0.0   3.0   7.0   7.0  \n",
       "2        0.0   0.0   0.0   0.0   0.0   1.0   0.0   3.0   5.0   9.0  \n",
       "3        0.0   0.0   0.0   0.0   0.0   0.0   0.0   1.0   3.0   3.0  \n",
       "4        0.0   0.0   0.0   0.0   0.0   0.0   0.0   3.0   5.0  12.0  \n",
       "...      ...   ...   ...   ...   ...   ...   ...   ...   ...   ...  \n",
       "599995   0.0   0.0   0.0   0.0   0.0   1.0   0.0   3.0   5.0   8.0  \n",
       "599996   0.0   0.0   0.0   0.0   1.0   0.0   0.0   2.0   3.0   3.0  \n",
       "599997   0.0   0.0   0.0   0.0   0.0   0.0   0.0   2.0   7.0   5.0  \n",
       "599998   0.0   0.0   0.0   0.0   1.0   1.0   0.0   1.0   1.0   5.0  \n",
       "599999   0.0   0.0   0.0   0.0   0.0   0.0   0.0   1.0   5.0   8.0  \n",
       "\n",
       "[600000 rows x 5429 columns]"
      ]
     },
     "execution_count": 17,
     "metadata": {},
     "output_type": "execute_result"
    }
   ],
   "source": [
    "pd.DataFrame(X)"
   ]
  },
  {
   "cell_type": "markdown",
   "id": "bba0d2a4-3555-40f4-8537-b75dc639d604",
   "metadata": {
    "id": "bba0d2a4-3555-40f4-8537-b75dc639d604"
   },
   "source": [
    "#  Balancing DataSets (Unequal Classes)"
   ]
  },
  {
   "cell_type": "code",
   "execution_count": 18,
   "id": "3d7792a7-85a9-4a91-9274-2676f98e1229",
   "metadata": {
    "id": "3d7792a7-85a9-4a91-9274-2676f98e1229",
    "outputId": "d6966390-2502-4e5e-8ad7-3009e98fc7c8"
   },
   "outputs": [
    {
     "data": {
      "image/png": "[encoded data removed]",
      "text/plain": [
       "<Figure size 432x288 with 1 Axes>"
      ]
     },
     "metadata": {
      "needs_background": "light"
     },
     "output_type": "display_data"
    }
   ],
   "source": [
    "#y=tar[:X.shape[0]]\n",
    "plt.bar(y.value_counts().index,y.value_counts().values)\n",
    "plt.gca().set_xticks([0,1])\n",
    "plt.title('distribution of target variable')\n",
    "plt.show()"
   ]
  },
  {
   "cell_type": "code",
   "execution_count": 19,
   "id": "b202d626-a1b9-4c46-969c-6dbe028113c4",
   "metadata": {
    "id": "b202d626-a1b9-4c46-969c-6dbe028113c4"
   },
   "outputs": [],
   "source": [
    "from imblearn.under_sampling import RandomUnderSampler\n"
   ]
  },
  {
   "cell_type": "code",
   "execution_count": 20,
   "id": "ce747d74-6de3-4e84-8b5e-6ed3698587ff",
   "metadata": {
    "id": "ce747d74-6de3-4e84-8b5e-6ed3698587ff"
   },
   "outputs": [],
   "source": [
    "ros=RandomUnderSampler(replacement=False )\n",
    "X_resampled,y_resampled=ros.fit_resample(X,y)"
   ]
  },
  {
   "cell_type": "code",
   "execution_count": 21,
   "id": "64d39158-8b0d-4a61-a616-ab561351f4ed",
   "metadata": {
    "id": "64d39158-8b0d-4a61-a616-ab561351f4ed",
    "outputId": "d3d89436-c822-49ae-e56a-2350bdb415de"
   },
   "outputs": [
    {
     "data": {
      "image/png": "[encoded data removed]",
      "text/plain": [
       "<Figure size 432x288 with 1 Axes>"
      ]
     },
     "metadata": {
      "needs_background": "light"
     },
     "output_type": "display_data"
    }
   ],
   "source": [
    "plt.bar(y_resampled.value_counts().index,y_resampled.value_counts().values)\n",
    "plt.gca().set_xticks([0,1])\n",
    "plt.title('distribution of target variable after balancing classes')\n",
    "plt.show()"
   ]
  },
  {
   "cell_type": "markdown",
   "id": "c0d66232-db1f-4b17-8154-039f838b570f",
   "metadata": {
    "id": "c0d66232-db1f-4b17-8154-039f838b570f"
   },
   "source": [
    "# Dimension Reduction using PCA"
   ]
  },
  {
   "cell_type": "code",
   "execution_count": 22,
   "id": "77c851b4-7869-4d1c-bb27-f0a3c58104f2",
   "metadata": {
    "id": "77c851b4-7869-4d1c-bb27-f0a3c58104f2"
   },
   "outputs": [],
   "source": [
    "del X "
   ]
  },
  {
   "cell_type": "code",
   "execution_count": 23,
   "id": "a7fa0c8a-14c9-41c2-a961-92f1a4b09642",
   "metadata": {
    "colab": {
     "base_uri": "https://localhost:8080/",
     "height": 163
    },
    "id": "a7fa0c8a-14c9-41c2-a961-92f1a4b09642",
    "outputId": "3f9bf9db-3c76-49d1-c712-22a9f5f70390"
   },
   "outputs": [],
   "source": [
    "X_train,X_test,y_train,y_test=train_test_split(X_resampled,y_resampled,test_size=0.2)"
   ]
  },
  {
   "cell_type": "code",
   "execution_count": 24,
   "id": "22fbd2f9",
   "metadata": {},
   "outputs": [],
   "source": [
    "del X_resampled,y_resampled"
   ]
  },
  {
   "cell_type": "code",
   "execution_count": 25,
   "id": "LOq-iHWoIazd",
   "metadata": {
    "colab": {
     "base_uri": "https://localhost:8080/"
    },
    "id": "LOq-iHWoIazd",
    "outputId": "9796064d-caff-4eeb-b553-eef9da91b87c"
   },
   "outputs": [
    {
     "data": {
      "text/plain": [
       "((179716, 5429), (179716,), (44930, 5429), (44930,))"
      ]
     },
     "execution_count": 25,
     "metadata": {},
     "output_type": "execute_result"
    }
   ],
   "source": [
    "X_train.shape,y_train.shape,X_test.shape,y_test.shape"
   ]
  },
  {
   "cell_type": "code",
   "execution_count": 26,
   "id": "f6f028e4-ae79-42b5-b1cc-f96838498079",
   "metadata": {
    "id": "f6f028e4-ae79-42b5-b1cc-f96838498079"
   },
   "outputs": [],
   "source": [
    "pca=PCA(n_components=2)"
   ]
  },
  {
   "cell_type": "code",
   "execution_count": 34,
   "id": "6e3811ef-d92b-4683-b354-13ae5e77bb5e",
   "metadata": {
    "id": "6e3811ef-d92b-4683-b354-13ae5e77bb5e"
   },
   "outputs": [],
   "source": [
    "X_train_pca = pca.fit_transform(X_train)"
   ]
  },
  {
   "cell_type": "code",
   "execution_count": 35,
   "id": "d05363c3",
   "metadata": {},
   "outputs": [],
   "source": [
    "X_test_pca = pca.transform(X_test)"
   ]
  },
  {
   "cell_type": "markdown",
   "id": "bea44182",
   "metadata": {},
   "source": [
    "# Logistic Regression"
   ]
  },
  {
   "cell_type": "code",
   "execution_count": 45,
   "id": "52913dae",
   "metadata": {},
   "outputs": [],
   "source": [
    "from sklearn.linear_model import LogisticRegression\n",
    "from sklearn.metrics import f1_score,confusion_matrix,ConfusionMatrixDisplay\n"
   ]
  },
  {
   "cell_type": "code",
   "execution_count": 36,
   "id": "fca8880d",
   "metadata": {},
   "outputs": [
    {
     "data": {
      "text/plain": [
       "LogisticRegression()"
      ]
     },
     "execution_count": 36,
     "metadata": {},
     "output_type": "execute_result"
    }
   ],
   "source": [
    "logreg=LogisticRegression()\n",
    "logreg.fit(X_train_pca,y_train)"
   ]
  },
  {
   "cell_type": "code",
   "execution_count": 37,
   "id": "230aa2ee",
   "metadata": {},
   "outputs": [
    {
     "data": {
      "text/plain": [
       "0.579581116873289"
      ]
     },
     "execution_count": 37,
     "metadata": {},
     "output_type": "execute_result"
    }
   ],
   "source": [
    "logreg.score(X_train_pca,y_train)"
   ]
  },
  {
   "cell_type": "code",
   "execution_count": 41,
   "id": "428dfb5e",
   "metadata": {},
   "outputs": [],
   "source": [
    "y_pred=logreg.predict(X_test_pca)"
   ]
  },
  {
   "cell_type": "code",
   "execution_count": 39,
   "id": "fcac3ef0",
   "metadata": {},
   "outputs": [
    {
     "data": {
      "text/plain": [
       "0.5798575561985311"
      ]
     },
     "execution_count": 39,
     "metadata": {},
     "output_type": "execute_result"
    }
   ],
   "source": [
    "logreg.score(X_test_pca,y_test)"
   ]
  },
  {
   "cell_type": "code",
   "execution_count": 42,
   "id": "4606cf53",
   "metadata": {},
   "outputs": [
    {
     "data": {
      "text/plain": [
       "0.5802219306633459"
      ]
     },
     "execution_count": 42,
     "metadata": {},
     "output_type": "execute_result"
    }
   ],
   "source": [
    "f1_score(y_test,y_pred)"
   ]
  },
  {
   "cell_type": "code",
   "execution_count": 48,
   "id": "8ede88b4",
   "metadata": {},
   "outputs": [
    {
     "data": {
      "text/plain": [
       "<sklearn.metrics._plot.confusion_matrix.ConfusionMatrixDisplay at 0x2498711fee0>"
      ]
     },
     "execution_count": 48,
     "metadata": {},
     "output_type": "execute_result"
    },
    {
     "data": {
      "image/png": "[encoded data removed]",
      "text/plain": [
       "<Figure size 432x288 with 2 Axes>"
      ]
     },
     "metadata": {
      "needs_background": "light"
     },
     "output_type": "display_data"
    }
   ],
   "source": [
    "cm=confusion_matrix(y_test,y_pred,labels=logreg.classes_)\n",
    "disp=ConfusionMatrixDisplay(confusion_matrix=cm,display_labels=logreg.classes_)\n",
    "disp.plot()"
   ]
  },
  {
   "cell_type": "code",
   "execution_count": null,
   "id": "01f8fad1",
   "metadata": {},
   "outputs": [],
   "source": []
  }
 ],
 "metadata": {
  "accelerator": "TPU",
  "colab": {
   "collapsed_sections": [],
   "name": "cat_in_dat.ipynb",
   "provenance": []
  },
  "kernelspec": {
   "display_name": "Python 3",
   "language": "python",
   "name": "python3"
  },
  "language_info": {
   "codemirror_mode": {
    "name": "ipython",
    "version": 3
   },
   "file_extension": ".py",
   "mimetype": "text/x-python",
   "name": "python",
   "nbconvert_exporter": "python",
   "pygments_lexer": "ipython3",
   "version": "3.8.8"
  }
 },
 "nbformat": 4,
 "nbformat_minor": 5
}
